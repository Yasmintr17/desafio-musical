{
 "cells": [
  {
   "cell_type": "code",
   "execution_count": 9,
   "metadata": {},
   "outputs": [
    {
     "name": "stdout",
     "output_type": "stream",
     "text": [
      "5 patinhos foram passear, além das montanhas para brincar, a mamãe gritou: Quá, quá, quá, quá , mas só 4 patinhos voltaram de lá\n",
      "4 patinhos foram passear, além das montanhas para brincar, a mamãe gritou: Quá, quá, quá, quá , mas só 3 patinhos voltaram de lá\n",
      "3 patinhos foram passear, além das montanhas para brincar, a mamãe gritou: Quá, quá, quá, quá , mas só 2 patinhos voltaram de lá\n",
      "2 patinhos foram passear, além das montanhas para brincar, a mamãe gritou: Quá, quá, quá, quá , mas só 1 patinhos voltaram de lá\n",
      "1 patinhos foram passear, além das montanhas para brincar, a mamãe gritou: Quá, quá, quá, quá , mas só 0 patinhos voltaram de lá\n"
     ]
    }
   ],
   "source": [
    "for patinhos in [5,4,3,2,1]:\n",
    "    print(patinhos,'patinhos foram passear, além das montanhas para brincar, a mamãe gritou: Quá, quá, quá, quá , mas só', patinhos-1, 'patinhos voltaram de lá')"
   ]
  },
  {
   "cell_type": "code",
   "execution_count": 17,
   "metadata": {},
   "outputs": [
    {
     "name": "stdout",
     "output_type": "stream",
     "text": [
      "1 elefante incomoda muita gente\n",
      "2 elefantes incomodam incomodam muito mais\n",
      "3 elefantes incomodam incomodam incomodam muito mais\n",
      "4 elefantes incomodam incomodam incomodam incomodam muito mais\n",
      "5 elefantes incomodam incomodam incomodam incomodam incomodam muito mais\n",
      "6 elefantes incomodam incomodam incomodam incomodam incomodam incomodam muito mais\n",
      "7 elefantes incomodam incomodam incomodam incomodam incomodam incomodam incomodam muito mais\n",
      "8 elefantes incomodam incomodam incomodam incomodam incomodam incomodam incomodam incomodam muito mais\n",
      "9 elefantes incomodam incomodam incomodam incomodam incomodam incomodam incomodam incomodam incomodam muito mais\n",
      "10 elefantes incomodam incomodam incomodam incomodam incomodam incomodam incomodam incomodam incomodam incomodam muito mais\n",
      "10 elefantes incomodam incomodam incomodam incomodam incomodam incomodam incomodam incomodam incomodam incomodam muito menos\n",
      "9 elefantes incomodam incomodam incomodam incomodam incomodam incomodam incomodam incomodam incomodam muito menos\n",
      "8 elefantes incomodam incomodam incomodam incomodam incomodam incomodam incomodam incomodam muito menos\n",
      "7 elefantes incomodam incomodam incomodam incomodam incomodam incomodam incomodam muito menos\n",
      "6 elefantes incomodam incomodam incomodam incomodam incomodam incomodam muito menos\n",
      "5 elefantes incomodam incomodam incomodam incomodam incomodam muito menos\n",
      "4 elefantes incomodam incomodam incomodam incomodam muito menos\n",
      "3 elefantes incomodam incomodam incomodam muito menos\n",
      "2 elefantes incomodam incomodam muito menos\n",
      "1 elefante incomoda muito menos\n"
     ]
    }
   ],
   "source": [
    "for E in [1,2,3,4,5,6,7,8,9,10]:\n",
    "    if (E == 1):\n",
    "        print(f\"{E} elefante incomoda muita gente\")\n",
    "    else:\n",
    "        print(f\"{E} elefantes \" + \"incomodam \" *E + \"muito mais\")\n",
    "\n",
    "\n",
    "for e in [10,9,8,7,6,5,4,3,2,1]:\n",
    "    if (e == 1):\n",
    "        print(f\"{e} elefante incomoda muito menos\")\n",
    "    else:\n",
    "        print(f\"{e} elefantes \" + \"incomodam \" *e + \"muito menos\")"
   ]
  },
  {
   "cell_type": "code",
   "execution_count": 41,
   "metadata": {},
   "outputs": [
    {
     "name": "stdout",
     "output_type": "stream",
     "text": [
      "mariana conta 1 mariana conta 1 é (1, 1) ana viva mariana, viva mariana\n",
      "mariana conta 2 mariana conta 2 é (1, 2) ana viva mariana, viva mariana\n",
      "mariana conta 3 mariana conta 3 é (1, 3) ana viva mariana, viva mariana\n",
      "mariana conta 4 mariana conta 4 é (1, 4) ana viva mariana, viva mariana\n",
      "mariana conta 5 mariana conta 5 é (1, 5) ana viva mariana, viva mariana\n",
      "mariana conta 6 mariana conta 6 é (1, 6) ana viva mariana, viva mariana\n",
      "mariana conta 7 mariana conta 7 é (1, 7) ana viva mariana, viva mariana\n",
      "mariana conta 8 mariana conta 8 é (1, 8) ana viva mariana, viva mariana\n",
      "mariana conta 9 mariana conta 9 é (1, 9) ana viva mariana, viva mariana\n"
     ]
    }
   ],
   "source": [
    "for n in [1,2,3,4,5,6,7,8,9]:\n",
    "    if (n >= 1):\n",
    "        print(f\"mariana conta\" , n, \"mariana conta\", n,\"é\" ,( 1,n) ,\"ana viva mariana, viva mariana\")\n"
   ]
  }
 ],
 "metadata": {
  "kernelspec": {
   "display_name": "Python 3",
   "language": "python",
   "name": "python3"
  },
  "language_info": {
   "codemirror_mode": {
    "name": "ipython",
    "version": 3
   },
   "file_extension": ".py",
   "mimetype": "text/x-python",
   "name": "python",
   "nbconvert_exporter": "python",
   "pygments_lexer": "ipython3",
   "version": "3.11.9"
  }
 },
 "nbformat": 4,
 "nbformat_minor": 2
}
